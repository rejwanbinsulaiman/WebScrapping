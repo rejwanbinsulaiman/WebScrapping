{
 "cells": [
  {
   "cell_type": "code",
   "execution_count": 1,
   "metadata": {},
   "outputs": [],
   "source": [
    "import numpy as np\n",
    "import pandas as pd\n",
    "from urllib.request import urlopen as uReq\n",
    "from bs4 import BeautifulSoup as soup"
   ]
  },
  {
   "cell_type": "code",
   "execution_count": 45,
   "metadata": {},
   "outputs": [],
   "source": [
    "imdb_url = 'https://www.imdb.com/search/title/?sort=num_votes,desc&start=1&title_type=feature&year=1950,2012'\n",
    "#imdb_url = 'https://www.imdb.com/search/title/?title_type=feature&release_date=1995-01-01,2012-12-31&user_rating=,1.0&sort=num_votes,asc'"
   ]
  },
  {
   "cell_type": "code",
   "execution_count": 46,
   "metadata": {},
   "outputs": [],
   "source": [
    "uClient = uReq(imdb_url) # requesitng to open the url\n",
    "page_html = uClient.read() # rading the url\n",
    "uClient.close()  # closing the file"
   ]
  },
  {
   "cell_type": "code",
   "execution_count": 49,
   "metadata": {
    "scrolled": true
   },
   "outputs": [],
   "source": [
    "#page_html"
   ]
  },
  {
   "cell_type": "code",
   "execution_count": 51,
   "metadata": {},
   "outputs": [],
   "source": [
    "page_soup =soup(page_html, 'html.parser') # breaking the html file into smaller portions\n"
   ]
  },
  {
   "cell_type": "code",
   "execution_count": 52,
   "metadata": {},
   "outputs": [],
   "source": [
    "#page_soup"
   ]
  },
  {
   "cell_type": "code",
   "execution_count": 53,
   "metadata": {},
   "outputs": [
    {
     "data": {
      "text/plain": [
       "50"
      ]
     },
     "execution_count": 53,
     "metadata": {},
     "output_type": "execute_result"
    }
   ],
   "source": [
    "# read the class from the webpage\n",
    "containers = page_soup.findAll('div', {'class': \"lister-item mode-advanced\"})\n",
    "len(containers) # how many items we have [how many film in our case]\n",
    "#print(containers)"
   ]
  },
  {
   "cell_type": "code",
   "execution_count": 54,
   "metadata": {},
   "outputs": [],
   "source": [
    "showcontianer = soup.prettify(containers[11]) #[one less than the lenth]\n",
    "#print(showcontianer)"
   ]
  },
  {
   "cell_type": "code",
   "execution_count": 55,
   "metadata": {},
   "outputs": [
    {
     "name": "stdout",
     "output_type": "stream",
     "text": [
      "The Shawshank Redemption,(1994),142 min\n",
      "\n",
      "The Dark Knight,(2008),152 min\n",
      "\n",
      "Inception,(2010),148 min\n",
      "\n",
      "Fight Club,(1999),139 min\n",
      "\n",
      "Pulp Fiction,(1994),154 min\n",
      "\n",
      "Forrest Gump,(1994),142 min\n",
      "\n",
      "The Matrix,(1999),136 min\n",
      "\n",
      "The Lord of the Rings: The Fellowship of the Ring,(2001),178 min\n",
      "\n",
      "The Lord of the Rings: The Return of the King,(2003),201 min\n",
      "\n",
      "The Godfather,(1972),175 min\n",
      "\n",
      "The Dark Knight Rises,(2012),164 min\n",
      "\n",
      "The Lord of the Rings: The Two Towers,(2002),179 min\n",
      "\n",
      "Seven,(1995),127 min\n",
      "\n",
      "Django Unchained,(2012),165 min\n",
      "\n",
      "Gladiator,(2000),155 min\n",
      "\n",
      "Batman Begins,(2005),140 min\n",
      "\n",
      "The Silence of the Lambs,(1991),118 min\n",
      "\n",
      "Inglourious Basterds,(2009),153 min\n",
      "\n",
      "Avengers Assemble,(2012),143 min\n",
      "\n",
      "Saving Private Ryan,(1998),169 min\n",
      "\n",
      "Star Wars: Episode IV - A New Hope,(1977),121 min\n",
      "\n",
      "Schindler's List,(1993),195 min\n",
      "\n",
      "The Prestige,(2006),130 min\n",
      "\n",
      "The Departed,(2006),151 min\n",
      "\n",
      "Star Wars: Episode V - The Empire Strikes Back,(1980),124 min\n",
      "\n",
      "The Green Mile,(1999),189 min\n",
      "\n",
      "Shutter Island,(2010),138 min\n",
      "\n",
      "The Godfather: Part II,(1974),202 min\n",
      "\n",
      "Memento,(2000),113 min\n",
      "\n",
      "Avatar,(2009),162 min\n",
      "\n",
      "American Beauty,(1999),122 min\n",
      "\n",
      "Back to the Future,(1985),116 min\n",
      "\n",
      "Titanic,(1997),194 min\n",
      "\n",
      "Leon,(1994),110 min\n",
      "\n",
      "American History X,(1998),119 min\n",
      "\n",
      "V for Vendetta,(2005),132 min\n",
      "\n",
      "Goodfellas,(1990),146 min\n",
      "\n",
      "Pirates of the Caribbean: The Curse of the Black Pearl,(2003),143 min\n",
      "\n",
      "WALL·E,(2008),98 min\n",
      "\n",
      "Kill Bill: Vol. 1,(2003),111 min\n",
      "\n",
      "Terminator 2: Judgment Day,(1991),137 min\n",
      "\n",
      "The Usual Suspects,(1995),106 min\n",
      "\n",
      "Braveheart,(1995),178 min\n",
      "\n",
      "Star Wars: Return of the Jedi,(1983),131 min\n",
      "\n",
      "Finding Nemo,(2003),100 min\n",
      "\n",
      "The Truman Show,(1998),103 min\n",
      "\n",
      "The Lion King,(1994),88 min\n",
      "\n",
      "Iron Man,(2008),126 min\n",
      "\n",
      "Up,(2009),96 min\n",
      "\n",
      "Reservoir Dogs,(1992),99 min\n",
      "\n"
     ]
    }
   ],
   "source": [
    "## creating the CSV with write mode\n",
    "filename = 'IMDB.csv'  # creating a csv file\n",
    "f = open(filename, 'w') # open the file\n",
    "headers = 'Name, Year, Runtime\\n' # use these elements as header in the file\n",
    "f.write(headers) # writing into file\n",
    "for container in containers: # looping around the 12 containers to get three elements\n",
    "    name = container.img['alt']\n",
    "    yearmov = container.findAll('span', {'class' :'lister-item-year text-muted unbold'})\n",
    "    year = yearmov[0].text\n",
    "    runtime_mov = container.findAll('span', {'class':'runtime'})\n",
    "    runtime = runtime_mov[0].text\n",
    "    \n",
    "    print(name + ','+year+','+runtime+'\\n')\n",
    "    f.write(name + ','+year+','+runtime+'\\n')\n",
    "    \n",
    "f.close()"
   ]
  },
  {
   "cell_type": "markdown",
   "metadata": {},
   "source": [
    "## importing the csv to create a data frame"
   ]
  },
  {
   "cell_type": "code",
   "execution_count": 56,
   "metadata": {},
   "outputs": [
    {
     "data": {
      "text/html": [
       "<div>\n",
       "<style scoped>\n",
       "    .dataframe tbody tr th:only-of-type {\n",
       "        vertical-align: middle;\n",
       "    }\n",
       "\n",
       "    .dataframe tbody tr th {\n",
       "        vertical-align: top;\n",
       "    }\n",
       "\n",
       "    .dataframe thead th {\n",
       "        text-align: right;\n",
       "    }\n",
       "</style>\n",
       "<table border=\"1\" class=\"dataframe\">\n",
       "  <thead>\n",
       "    <tr style=\"text-align: right;\">\n",
       "      <th></th>\n",
       "      <th>Name</th>\n",
       "      <th>Year</th>\n",
       "      <th>Runtime</th>\n",
       "    </tr>\n",
       "  </thead>\n",
       "  <tbody>\n",
       "    <tr>\n",
       "      <th>0</th>\n",
       "      <td>The Shawshank Redemption</td>\n",
       "      <td>(1994)</td>\n",
       "      <td>142 min</td>\n",
       "    </tr>\n",
       "    <tr>\n",
       "      <th>1</th>\n",
       "      <td>The Dark Knight</td>\n",
       "      <td>(2008)</td>\n",
       "      <td>152 min</td>\n",
       "    </tr>\n",
       "    <tr>\n",
       "      <th>2</th>\n",
       "      <td>Inception</td>\n",
       "      <td>(2010)</td>\n",
       "      <td>148 min</td>\n",
       "    </tr>\n",
       "    <tr>\n",
       "      <th>3</th>\n",
       "      <td>Fight Club</td>\n",
       "      <td>(1999)</td>\n",
       "      <td>139 min</td>\n",
       "    </tr>\n",
       "    <tr>\n",
       "      <th>4</th>\n",
       "      <td>Pulp Fiction</td>\n",
       "      <td>(1994)</td>\n",
       "      <td>154 min</td>\n",
       "    </tr>\n",
       "    <tr>\n",
       "      <th>5</th>\n",
       "      <td>Forrest Gump</td>\n",
       "      <td>(1994)</td>\n",
       "      <td>142 min</td>\n",
       "    </tr>\n",
       "    <tr>\n",
       "      <th>6</th>\n",
       "      <td>The Matrix</td>\n",
       "      <td>(1999)</td>\n",
       "      <td>136 min</td>\n",
       "    </tr>\n",
       "    <tr>\n",
       "      <th>7</th>\n",
       "      <td>The Lord of the Rings: The Fellowship of the Ring</td>\n",
       "      <td>(2001)</td>\n",
       "      <td>178 min</td>\n",
       "    </tr>\n",
       "    <tr>\n",
       "      <th>8</th>\n",
       "      <td>The Lord of the Rings: The Return of the King</td>\n",
       "      <td>(2003)</td>\n",
       "      <td>201 min</td>\n",
       "    </tr>\n",
       "    <tr>\n",
       "      <th>9</th>\n",
       "      <td>The Godfather</td>\n",
       "      <td>(1972)</td>\n",
       "      <td>175 min</td>\n",
       "    </tr>\n",
       "  </tbody>\n",
       "</table>\n",
       "</div>"
      ],
      "text/plain": [
       "                                                Name    Year  Runtime\n",
       "0                           The Shawshank Redemption  (1994)  142 min\n",
       "1                                    The Dark Knight  (2008)  152 min\n",
       "2                                          Inception  (2010)  148 min\n",
       "3                                         Fight Club  (1999)  139 min\n",
       "4                                       Pulp Fiction  (1994)  154 min\n",
       "5                                       Forrest Gump  (1994)  142 min\n",
       "6                                         The Matrix  (1999)  136 min\n",
       "7  The Lord of the Rings: The Fellowship of the Ring  (2001)  178 min\n",
       "8      The Lord of the Rings: The Return of the King  (2003)  201 min\n",
       "9                                      The Godfather  (1972)  175 min"
      ]
     },
     "execution_count": 56,
     "metadata": {},
     "output_type": "execute_result"
    }
   ],
   "source": [
    "imdb = pd.read_csv('IMDB.csv', encoding ='latin1')\n",
    "imdb.head(10)"
   ]
  },
  {
   "cell_type": "code",
   "execution_count": null,
   "metadata": {},
   "outputs": [],
   "source": []
  }
 ],
 "metadata": {
  "kernelspec": {
   "display_name": "Python 3",
   "language": "python",
   "name": "python3"
  },
  "language_info": {
   "codemirror_mode": {
    "name": "ipython",
    "version": 3
   },
   "file_extension": ".py",
   "mimetype": "text/x-python",
   "name": "python",
   "nbconvert_exporter": "python",
   "pygments_lexer": "ipython3",
   "version": "3.8.5"
  }
 },
 "nbformat": 4,
 "nbformat_minor": 4
}
